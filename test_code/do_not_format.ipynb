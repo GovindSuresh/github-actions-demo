{
 "cells": [
  {
   "cell_type": "markdown",
   "metadata": {},
   "source": [
    "### Test notebook for linter(should not be linted)"
   ]
  },
  {
   "cell_type": "code",
   "execution_count": null,
   "metadata": {},
   "outputs": [],
   "source": [
    "my_list = ['hi'   ,   'goodbye' \"bonjour\", 'au_revoir'      ]\n",
    "\n",
    "my_list2 = ['testing', 'test']\n",
    "\n",
    "my_list3 = 'hi'"
   ]
  }
 ],
 "metadata": {
  "interpreter": {
   "hash": "3cbdb8003f6f9e7b52abf63ddcf064056146e9f6fd15b6987aa5910e176846c5"
  },
  "kernelspec": {
   "display_name": "Python 3.8.12 64-bit ('bhv_cyclical': conda)",
   "language": "python",
   "name": "python3"
  },
  "language_info": {
   "name": "python",
   "version": "3.8.12"
  },
  "orig_nbformat": 4
 },
 "nbformat": 4,
 "nbformat_minor": 2
}
